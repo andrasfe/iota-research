{
 "cells": [
  {
   "cell_type": "code",
   "execution_count": 1,
   "metadata": {},
   "outputs": [
    {
     "name": "stdout",
     "output_type": "stream",
     "text": [
      "/bin/bash: /home/andras/anaconda3/lib/libtinfo.so.6: no version information available (required by /bin/bash)\n",
      "Requirement already satisfied: pandas in /home/andras/.local/lib/python3.8/site-packages (1.4.0)\n",
      "Requirement already satisfied: numpy>=1.18.5 in /home/andras/anaconda3/lib/python3.8/site-packages (from pandas) (1.22.4)\n",
      "Requirement already satisfied: python-dateutil>=2.8.1 in /home/andras/.local/lib/python3.8/site-packages (from pandas) (2.8.2)\n",
      "Requirement already satisfied: pytz>=2020.1 in /home/andras/.local/lib/python3.8/site-packages (from pandas) (2021.3)\n",
      "Requirement already satisfied: six>=1.5 in /home/andras/anaconda3/lib/python3.8/site-packages (from python-dateutil>=2.8.1->pandas) (1.16.0)\n"
     ]
    }
   ],
   "source": [
    "!pip install pandas"
   ]
  },
  {
   "cell_type": "code",
   "execution_count": 2,
   "metadata": {},
   "outputs": [
    {
     "name": "stdout",
     "output_type": "stream",
     "text": [
      "/bin/bash: /home/andras/anaconda3/lib/libtinfo.so.6: no version information available (required by /bin/bash)\n",
      "Requirement already satisfied: matplotlib in /home/andras/.local/lib/python3.8/site-packages (3.5.1)\n",
      "Requirement already satisfied: cycler>=0.10 in /home/andras/.local/lib/python3.8/site-packages (from matplotlib) (0.11.0)\n",
      "Requirement already satisfied: python-dateutil>=2.7 in /home/andras/.local/lib/python3.8/site-packages (from matplotlib) (2.8.2)\n",
      "Requirement already satisfied: numpy>=1.17 in /home/andras/anaconda3/lib/python3.8/site-packages (from matplotlib) (1.22.4)\n",
      "Requirement already satisfied: fonttools>=4.22.0 in /home/andras/.local/lib/python3.8/site-packages (from matplotlib) (4.29.1)\n",
      "Requirement already satisfied: pyparsing>=2.2.1 in /home/andras/.local/lib/python3.8/site-packages (from matplotlib) (3.0.7)\n",
      "Requirement already satisfied: packaging>=20.0 in /home/andras/anaconda3/lib/python3.8/site-packages (from matplotlib) (23.1)\n",
      "Requirement already satisfied: kiwisolver>=1.0.1 in /home/andras/.local/lib/python3.8/site-packages (from matplotlib) (1.3.2)\n",
      "Requirement already satisfied: pillow>=6.2.0 in /home/andras/.local/lib/python3.8/site-packages (from matplotlib) (9.0.1)\n",
      "Requirement already satisfied: six>=1.5 in /home/andras/anaconda3/lib/python3.8/site-packages (from python-dateutil>=2.7->matplotlib) (1.16.0)\n"
     ]
    }
   ],
   "source": [
    "!pip install matplotlib"
   ]
  },
  {
   "cell_type": "code",
   "execution_count": 14,
   "metadata": {},
   "outputs": [],
   "source": [
    "import pandas as pd\n",
    "import matplotlib.pyplot as plt\n",
    "import re\n",
    "import inspect"
   ]
  },
  {
   "cell_type": "markdown",
   "metadata": {},
   "source": []
  },
  {
   "cell_type": "code",
   "execution_count": 15,
   "metadata": {},
   "outputs": [
    {
     "ename": "FileNotFoundError",
     "evalue": "[Errno 2] No such file or directory: 'bfs.log'",
     "output_type": "error",
     "traceback": [
      "\u001b[0;31m---------------------------------------------------------------------------\u001b[0m",
      "\u001b[0;31mFileNotFoundError\u001b[0m                         Traceback (most recent call last)",
      "\u001b[1;32m/home/andras/github/dfs_iota_research/reports/systems_profile.ipynb Cell 5\u001b[0m in \u001b[0;36m<cell line: 4>\u001b[0;34m()\u001b[0m\n\u001b[1;32m      <a href='vscode-notebook-cell:/home/andras/github/dfs_iota_research/reports/systems_profile.ipynb#X30sZmlsZQ%3D%3D?line=0'>1</a>\u001b[0m column_names \u001b[39m=\u001b[39m [\u001b[39m'\u001b[39m\u001b[39mID\u001b[39m\u001b[39m'\u001b[39m,\u001b[39m'\u001b[39m\u001b[39mName\u001b[39m\u001b[39m'\u001b[39m,\u001b[39m'\u001b[39m\u001b[39mCPU_Percentage\u001b[39m\u001b[39m'\u001b[39m,\u001b[39m'\u001b[39m\u001b[39mMemory_Usage\u001b[39m\u001b[39m'\u001b[39m,\u001b[39m'\u001b[39m\u001b[39mMemory_Percentage\u001b[39m\u001b[39m'\u001b[39m,\u001b[39m'\u001b[39m\u001b[39mNet_IO\u001b[39m\u001b[39m'\u001b[39m,\u001b[39m'\u001b[39m\u001b[39mBlock_IO\u001b[39m\u001b[39m'\u001b[39m]\n\u001b[1;32m      <a href='vscode-notebook-cell:/home/andras/github/dfs_iota_research/reports/systems_profile.ipynb#X30sZmlsZQ%3D%3D?line=2'>3</a>\u001b[0m \u001b[39m# Read all files and concatenate them into a single DataFrame\u001b[39;00m\n\u001b[0;32m----> <a href='vscode-notebook-cell:/home/andras/github/dfs_iota_research/reports/systems_profile.ipynb#X30sZmlsZQ%3D%3D?line=3'>4</a>\u001b[0m df_1 \u001b[39m=\u001b[39m pd\u001b[39m.\u001b[39;49mread_csv(\u001b[39m'\u001b[39;49m\u001b[39mbfs.log\u001b[39;49m\u001b[39m'\u001b[39;49m, names\u001b[39m=\u001b[39;49mcolumn_names, header\u001b[39m=\u001b[39;49m\u001b[39m0\u001b[39;49m)\n\u001b[1;32m      <a href='vscode-notebook-cell:/home/andras/github/dfs_iota_research/reports/systems_profile.ipynb#X30sZmlsZQ%3D%3D?line=4'>5</a>\u001b[0m df_2 \u001b[39m=\u001b[39m pd\u001b[39m.\u001b[39mread_csv(\u001b[39m'\u001b[39m\u001b[39mdfs.log\u001b[39m\u001b[39m'\u001b[39m, names\u001b[39m=\u001b[39mcolumn_names, header\u001b[39m=\u001b[39m\u001b[39m0\u001b[39m)\n",
      "File \u001b[0;32m~/.local/lib/python3.8/site-packages/pandas/util/_decorators.py:311\u001b[0m, in \u001b[0;36mdeprecate_nonkeyword_arguments.<locals>.decorate.<locals>.wrapper\u001b[0;34m(*args, **kwargs)\u001b[0m\n\u001b[1;32m    305\u001b[0m \u001b[39mif\u001b[39;00m \u001b[39mlen\u001b[39m(args) \u001b[39m>\u001b[39m num_allow_args:\n\u001b[1;32m    306\u001b[0m     warnings\u001b[39m.\u001b[39mwarn(\n\u001b[1;32m    307\u001b[0m         msg\u001b[39m.\u001b[39mformat(arguments\u001b[39m=\u001b[39marguments),\n\u001b[1;32m    308\u001b[0m         \u001b[39mFutureWarning\u001b[39;00m,\n\u001b[1;32m    309\u001b[0m         stacklevel\u001b[39m=\u001b[39mstacklevel,\n\u001b[1;32m    310\u001b[0m     )\n\u001b[0;32m--> 311\u001b[0m \u001b[39mreturn\u001b[39;00m func(\u001b[39m*\u001b[39;49margs, \u001b[39m*\u001b[39;49m\u001b[39m*\u001b[39;49mkwargs)\n",
      "File \u001b[0;32m~/.local/lib/python3.8/site-packages/pandas/io/parsers/readers.py:680\u001b[0m, in \u001b[0;36mread_csv\u001b[0;34m(filepath_or_buffer, sep, delimiter, header, names, index_col, usecols, squeeze, prefix, mangle_dupe_cols, dtype, engine, converters, true_values, false_values, skipinitialspace, skiprows, skipfooter, nrows, na_values, keep_default_na, na_filter, verbose, skip_blank_lines, parse_dates, infer_datetime_format, keep_date_col, date_parser, dayfirst, cache_dates, iterator, chunksize, compression, thousands, decimal, lineterminator, quotechar, quoting, doublequote, escapechar, comment, encoding, encoding_errors, dialect, error_bad_lines, warn_bad_lines, on_bad_lines, delim_whitespace, low_memory, memory_map, float_precision, storage_options)\u001b[0m\n\u001b[1;32m    665\u001b[0m kwds_defaults \u001b[39m=\u001b[39m _refine_defaults_read(\n\u001b[1;32m    666\u001b[0m     dialect,\n\u001b[1;32m    667\u001b[0m     delimiter,\n\u001b[0;32m   (...)\u001b[0m\n\u001b[1;32m    676\u001b[0m     defaults\u001b[39m=\u001b[39m{\u001b[39m\"\u001b[39m\u001b[39mdelimiter\u001b[39m\u001b[39m\"\u001b[39m: \u001b[39m\"\u001b[39m\u001b[39m,\u001b[39m\u001b[39m\"\u001b[39m},\n\u001b[1;32m    677\u001b[0m )\n\u001b[1;32m    678\u001b[0m kwds\u001b[39m.\u001b[39mupdate(kwds_defaults)\n\u001b[0;32m--> 680\u001b[0m \u001b[39mreturn\u001b[39;00m _read(filepath_or_buffer, kwds)\n",
      "File \u001b[0;32m~/.local/lib/python3.8/site-packages/pandas/io/parsers/readers.py:575\u001b[0m, in \u001b[0;36m_read\u001b[0;34m(filepath_or_buffer, kwds)\u001b[0m\n\u001b[1;32m    572\u001b[0m _validate_names(kwds\u001b[39m.\u001b[39mget(\u001b[39m\"\u001b[39m\u001b[39mnames\u001b[39m\u001b[39m\"\u001b[39m, \u001b[39mNone\u001b[39;00m))\n\u001b[1;32m    574\u001b[0m \u001b[39m# Create the parser.\u001b[39;00m\n\u001b[0;32m--> 575\u001b[0m parser \u001b[39m=\u001b[39m TextFileReader(filepath_or_buffer, \u001b[39m*\u001b[39;49m\u001b[39m*\u001b[39;49mkwds)\n\u001b[1;32m    577\u001b[0m \u001b[39mif\u001b[39;00m chunksize \u001b[39mor\u001b[39;00m iterator:\n\u001b[1;32m    578\u001b[0m     \u001b[39mreturn\u001b[39;00m parser\n",
      "File \u001b[0;32m~/.local/lib/python3.8/site-packages/pandas/io/parsers/readers.py:933\u001b[0m, in \u001b[0;36mTextFileReader.__init__\u001b[0;34m(self, f, engine, **kwds)\u001b[0m\n\u001b[1;32m    930\u001b[0m     \u001b[39mself\u001b[39m\u001b[39m.\u001b[39moptions[\u001b[39m\"\u001b[39m\u001b[39mhas_index_names\u001b[39m\u001b[39m\"\u001b[39m] \u001b[39m=\u001b[39m kwds[\u001b[39m\"\u001b[39m\u001b[39mhas_index_names\u001b[39m\u001b[39m\"\u001b[39m]\n\u001b[1;32m    932\u001b[0m \u001b[39mself\u001b[39m\u001b[39m.\u001b[39mhandles: IOHandles \u001b[39m|\u001b[39m \u001b[39mNone\u001b[39;00m \u001b[39m=\u001b[39m \u001b[39mNone\u001b[39;00m\n\u001b[0;32m--> 933\u001b[0m \u001b[39mself\u001b[39m\u001b[39m.\u001b[39m_engine \u001b[39m=\u001b[39m \u001b[39mself\u001b[39;49m\u001b[39m.\u001b[39;49m_make_engine(f, \u001b[39mself\u001b[39;49m\u001b[39m.\u001b[39;49mengine)\n",
      "File \u001b[0;32m~/.local/lib/python3.8/site-packages/pandas/io/parsers/readers.py:1217\u001b[0m, in \u001b[0;36mTextFileReader._make_engine\u001b[0;34m(self, f, engine)\u001b[0m\n\u001b[1;32m   1213\u001b[0m     mode \u001b[39m=\u001b[39m \u001b[39m\"\u001b[39m\u001b[39mrb\u001b[39m\u001b[39m\"\u001b[39m\n\u001b[1;32m   1214\u001b[0m \u001b[39m# error: No overload variant of \"get_handle\" matches argument types\u001b[39;00m\n\u001b[1;32m   1215\u001b[0m \u001b[39m# \"Union[str, PathLike[str], ReadCsvBuffer[bytes], ReadCsvBuffer[str]]\"\u001b[39;00m\n\u001b[1;32m   1216\u001b[0m \u001b[39m# , \"str\", \"bool\", \"Any\", \"Any\", \"Any\", \"Any\", \"Any\"\u001b[39;00m\n\u001b[0;32m-> 1217\u001b[0m \u001b[39mself\u001b[39m\u001b[39m.\u001b[39mhandles \u001b[39m=\u001b[39m get_handle(  \u001b[39m# type: ignore[call-overload]\u001b[39;49;00m\n\u001b[1;32m   1218\u001b[0m     f,\n\u001b[1;32m   1219\u001b[0m     mode,\n\u001b[1;32m   1220\u001b[0m     encoding\u001b[39m=\u001b[39;49m\u001b[39mself\u001b[39;49m\u001b[39m.\u001b[39;49moptions\u001b[39m.\u001b[39;49mget(\u001b[39m\"\u001b[39;49m\u001b[39mencoding\u001b[39;49m\u001b[39m\"\u001b[39;49m, \u001b[39mNone\u001b[39;49;00m),\n\u001b[1;32m   1221\u001b[0m     compression\u001b[39m=\u001b[39;49m\u001b[39mself\u001b[39;49m\u001b[39m.\u001b[39;49moptions\u001b[39m.\u001b[39;49mget(\u001b[39m\"\u001b[39;49m\u001b[39mcompression\u001b[39;49m\u001b[39m\"\u001b[39;49m, \u001b[39mNone\u001b[39;49;00m),\n\u001b[1;32m   1222\u001b[0m     memory_map\u001b[39m=\u001b[39;49m\u001b[39mself\u001b[39;49m\u001b[39m.\u001b[39;49moptions\u001b[39m.\u001b[39;49mget(\u001b[39m\"\u001b[39;49m\u001b[39mmemory_map\u001b[39;49m\u001b[39m\"\u001b[39;49m, \u001b[39mFalse\u001b[39;49;00m),\n\u001b[1;32m   1223\u001b[0m     is_text\u001b[39m=\u001b[39;49mis_text,\n\u001b[1;32m   1224\u001b[0m     errors\u001b[39m=\u001b[39;49m\u001b[39mself\u001b[39;49m\u001b[39m.\u001b[39;49moptions\u001b[39m.\u001b[39;49mget(\u001b[39m\"\u001b[39;49m\u001b[39mencoding_errors\u001b[39;49m\u001b[39m\"\u001b[39;49m, \u001b[39m\"\u001b[39;49m\u001b[39mstrict\u001b[39;49m\u001b[39m\"\u001b[39;49m),\n\u001b[1;32m   1225\u001b[0m     storage_options\u001b[39m=\u001b[39;49m\u001b[39mself\u001b[39;49m\u001b[39m.\u001b[39;49moptions\u001b[39m.\u001b[39;49mget(\u001b[39m\"\u001b[39;49m\u001b[39mstorage_options\u001b[39;49m\u001b[39m\"\u001b[39;49m, \u001b[39mNone\u001b[39;49;00m),\n\u001b[1;32m   1226\u001b[0m )\n\u001b[1;32m   1227\u001b[0m \u001b[39massert\u001b[39;00m \u001b[39mself\u001b[39m\u001b[39m.\u001b[39mhandles \u001b[39mis\u001b[39;00m \u001b[39mnot\u001b[39;00m \u001b[39mNone\u001b[39;00m\n\u001b[1;32m   1228\u001b[0m f \u001b[39m=\u001b[39m \u001b[39mself\u001b[39m\u001b[39m.\u001b[39mhandles\u001b[39m.\u001b[39mhandle\n",
      "File \u001b[0;32m~/.local/lib/python3.8/site-packages/pandas/io/common.py:789\u001b[0m, in \u001b[0;36mget_handle\u001b[0;34m(path_or_buf, mode, encoding, compression, memory_map, is_text, errors, storage_options)\u001b[0m\n\u001b[1;32m    784\u001b[0m \u001b[39melif\u001b[39;00m \u001b[39misinstance\u001b[39m(handle, \u001b[39mstr\u001b[39m):\n\u001b[1;32m    785\u001b[0m     \u001b[39m# Check whether the filename is to be opened in binary mode.\u001b[39;00m\n\u001b[1;32m    786\u001b[0m     \u001b[39m# Binary mode does not support 'encoding' and 'newline'.\u001b[39;00m\n\u001b[1;32m    787\u001b[0m     \u001b[39mif\u001b[39;00m ioargs\u001b[39m.\u001b[39mencoding \u001b[39mand\u001b[39;00m \u001b[39m\"\u001b[39m\u001b[39mb\u001b[39m\u001b[39m\"\u001b[39m \u001b[39mnot\u001b[39;00m \u001b[39min\u001b[39;00m ioargs\u001b[39m.\u001b[39mmode:\n\u001b[1;32m    788\u001b[0m         \u001b[39m# Encoding\u001b[39;00m\n\u001b[0;32m--> 789\u001b[0m         handle \u001b[39m=\u001b[39m \u001b[39mopen\u001b[39;49m(\n\u001b[1;32m    790\u001b[0m             handle,\n\u001b[1;32m    791\u001b[0m             ioargs\u001b[39m.\u001b[39;49mmode,\n\u001b[1;32m    792\u001b[0m             encoding\u001b[39m=\u001b[39;49mioargs\u001b[39m.\u001b[39;49mencoding,\n\u001b[1;32m    793\u001b[0m             errors\u001b[39m=\u001b[39;49merrors,\n\u001b[1;32m    794\u001b[0m             newline\u001b[39m=\u001b[39;49m\u001b[39m\"\u001b[39;49m\u001b[39m\"\u001b[39;49m,\n\u001b[1;32m    795\u001b[0m         )\n\u001b[1;32m    796\u001b[0m     \u001b[39melse\u001b[39;00m:\n\u001b[1;32m    797\u001b[0m         \u001b[39m# Binary mode\u001b[39;00m\n\u001b[1;32m    798\u001b[0m         handle \u001b[39m=\u001b[39m \u001b[39mopen\u001b[39m(handle, ioargs\u001b[39m.\u001b[39mmode)\n",
      "\u001b[0;31mFileNotFoundError\u001b[0m: [Errno 2] No such file or directory: 'bfs.log'"
     ]
    }
   ],
   "source": [
    "column_names = ['ID','Name','CPU_Percentage','Memory_Usage','Memory_Percentage','Net_IO','Block_IO']\n",
    "\n",
    "# Read all files and concatenate them into a single DataFrame\n",
    "df_1 = pd.read_csv('../results/CURRENT/stats/bfs.log', names=column_names, header=0)\n",
    "df_2 = pd.read_csv('../results/CURRENT/stats/dfs.log', names=column_names, header=0)"
   ]
  },
  {
   "cell_type": "code",
   "execution_count": 5,
   "metadata": {},
   "outputs": [],
   "source": [
    "def conv(s):\n",
    "    # Extract all numbers (including decimals) as strings along with their units\n",
    "    number_strings_with_units = re.findall(r'(\\d+(?:\\.\\d+)?)([GMKk]?i?B)', s)\n",
    "\n",
    "    numbers = []\n",
    "    for num_str, unit in number_strings_with_units:\n",
    "        num = float(num_str)\n",
    "        if unit in ['GiB', 'GB']:\n",
    "            num *= 10**6\n",
    "        elif unit in ['MiB', 'MB']:\n",
    "            num *= 10**3\n",
    "        # elif unit in ['KiB', 'kB', 'KB']:\n",
    "        #     num *= 10**(-3)\n",
    "        numbers.append(num)\n",
    "\n",
    "    return numbers"
   ]
  },
  {
   "cell_type": "code",
   "execution_count": 6,
   "metadata": {},
   "outputs": [],
   "source": [
    "def format_df(df):\n",
    "    # Remove \"%\" sign from columns with percentages\n",
    "    df = df.drop('ID', axis=1)\n",
    "    df['Name'] = df['Name'].apply(str.strip)\n",
    "    df['CPU_Percentage'] = df['CPU_Percentage'].str.replace('%', '').astype(float)\n",
    "    df['Memory_Percentage'] = df['Memory_Percentage'].str.replace('%', '').astype(float)\n",
    "    df['Memory_Usage'] = df['Memory_Usage'].apply(conv)\n",
    "    df['Net_IO'] = df['Net_IO'].apply(conv)\n",
    "    df['Block_IO'] = df['Block_IO'].apply(conv)\n",
    "    df[['Memory_in_use', 'Available_memory']] = pd.DataFrame(df['Memory_Usage'].tolist(), index=df.index)\n",
    "    df[['Net_IO_in', 'Net_IO_out']] = pd.DataFrame(df['Net_IO'].tolist(), index=df.index)\n",
    "    df[['Block_IO_in', 'Block_IO_out']] = pd.DataFrame(df['Block_IO'].tolist(), index=df.index)\n",
    "    return df"
   ]
  },
  {
   "cell_type": "code",
   "execution_count": 7,
   "metadata": {},
   "outputs": [
    {
     "data": {
      "text/html": [
       "<div>\n",
       "<style scoped>\n",
       "    .dataframe tbody tr th:only-of-type {\n",
       "        vertical-align: middle;\n",
       "    }\n",
       "\n",
       "    .dataframe tbody tr th {\n",
       "        vertical-align: top;\n",
       "    }\n",
       "\n",
       "    .dataframe thead th {\n",
       "        text-align: right;\n",
       "    }\n",
       "</style>\n",
       "<table border=\"1\" class=\"dataframe\">\n",
       "  <thead>\n",
       "    <tr style=\"text-align: right;\">\n",
       "      <th></th>\n",
       "      <th>Name</th>\n",
       "      <th>CPU_Percentage</th>\n",
       "      <th>Memory_Usage</th>\n",
       "      <th>Memory_Percentage</th>\n",
       "      <th>Net_IO</th>\n",
       "      <th>Block_IO</th>\n",
       "      <th>Memory_in_use</th>\n",
       "      <th>Available_memory</th>\n",
       "      <th>Net_IO_in</th>\n",
       "      <th>Net_IO_out</th>\n",
       "      <th>Block_IO_in</th>\n",
       "      <th>Block_IO_out</th>\n",
       "    </tr>\n",
       "  </thead>\n",
       "  <tbody>\n",
       "    <tr>\n",
       "      <th>0</th>\n",
       "      <td>hopeful_keller</td>\n",
       "      <td>99.40</td>\n",
       "      <td>[313600.0, 31280000.0]</td>\n",
       "      <td>0.98</td>\n",
       "      <td>[214.0, 0.0]</td>\n",
       "      <td>[0.0, 5280.0]</td>\n",
       "      <td>313600.0</td>\n",
       "      <td>31280000.0</td>\n",
       "      <td>214.0</td>\n",
       "      <td>0.0</td>\n",
       "      <td>0.0</td>\n",
       "      <td>5280.0</td>\n",
       "    </tr>\n",
       "    <tr>\n",
       "      <th>1</th>\n",
       "      <td>hopeful_keller</td>\n",
       "      <td>100.54</td>\n",
       "      <td>[313600.0, 31280000.0]</td>\n",
       "      <td>0.98</td>\n",
       "      <td>[215.0, 0.0]</td>\n",
       "      <td>[0.0, 5280.0]</td>\n",
       "      <td>313600.0</td>\n",
       "      <td>31280000.0</td>\n",
       "      <td>215.0</td>\n",
       "      <td>0.0</td>\n",
       "      <td>0.0</td>\n",
       "      <td>5280.0</td>\n",
       "    </tr>\n",
       "    <tr>\n",
       "      <th>2</th>\n",
       "      <td>hopeful_keller</td>\n",
       "      <td>99.76</td>\n",
       "      <td>[313600.0, 31280000.0]</td>\n",
       "      <td>0.98</td>\n",
       "      <td>[215.0, 0.0]</td>\n",
       "      <td>[0.0, 5280.0]</td>\n",
       "      <td>313600.0</td>\n",
       "      <td>31280000.0</td>\n",
       "      <td>215.0</td>\n",
       "      <td>0.0</td>\n",
       "      <td>0.0</td>\n",
       "      <td>5280.0</td>\n",
       "    </tr>\n",
       "    <tr>\n",
       "      <th>3</th>\n",
       "      <td>hopeful_keller</td>\n",
       "      <td>99.93</td>\n",
       "      <td>[313600.0, 31280000.0]</td>\n",
       "      <td>0.98</td>\n",
       "      <td>[215.0, 0.0]</td>\n",
       "      <td>[0.0, 5280.0]</td>\n",
       "      <td>313600.0</td>\n",
       "      <td>31280000.0</td>\n",
       "      <td>215.0</td>\n",
       "      <td>0.0</td>\n",
       "      <td>0.0</td>\n",
       "      <td>5280.0</td>\n",
       "    </tr>\n",
       "    <tr>\n",
       "      <th>4</th>\n",
       "      <td>hopeful_keller</td>\n",
       "      <td>100.17</td>\n",
       "      <td>[321200.0, 31280000.0]</td>\n",
       "      <td>1.00</td>\n",
       "      <td>[215.0, 0.0]</td>\n",
       "      <td>[0.0, 5280.0]</td>\n",
       "      <td>321200.0</td>\n",
       "      <td>31280000.0</td>\n",
       "      <td>215.0</td>\n",
       "      <td>0.0</td>\n",
       "      <td>0.0</td>\n",
       "      <td>5280.0</td>\n",
       "    </tr>\n",
       "  </tbody>\n",
       "</table>\n",
       "</div>"
      ],
      "text/plain": [
       "             Name  CPU_Percentage            Memory_Usage  Memory_Percentage  \\\n",
       "0  hopeful_keller           99.40  [313600.0, 31280000.0]               0.98   \n",
       "1  hopeful_keller          100.54  [313600.0, 31280000.0]               0.98   \n",
       "2  hopeful_keller           99.76  [313600.0, 31280000.0]               0.98   \n",
       "3  hopeful_keller           99.93  [313600.0, 31280000.0]               0.98   \n",
       "4  hopeful_keller          100.17  [321200.0, 31280000.0]               1.00   \n",
       "\n",
       "         Net_IO       Block_IO  Memory_in_use  Available_memory  Net_IO_in  \\\n",
       "0  [214.0, 0.0]  [0.0, 5280.0]       313600.0        31280000.0      214.0   \n",
       "1  [215.0, 0.0]  [0.0, 5280.0]       313600.0        31280000.0      215.0   \n",
       "2  [215.0, 0.0]  [0.0, 5280.0]       313600.0        31280000.0      215.0   \n",
       "3  [215.0, 0.0]  [0.0, 5280.0]       313600.0        31280000.0      215.0   \n",
       "4  [215.0, 0.0]  [0.0, 5280.0]       321200.0        31280000.0      215.0   \n",
       "\n",
       "   Net_IO_out  Block_IO_in  Block_IO_out  \n",
       "0         0.0          0.0        5280.0  \n",
       "1         0.0          0.0        5280.0  \n",
       "2         0.0          0.0        5280.0  \n",
       "3         0.0          0.0        5280.0  \n",
       "4         0.0          0.0        5280.0  "
      ]
     },
     "execution_count": 7,
     "metadata": {},
     "output_type": "execute_result"
    }
   ],
   "source": [
    "df.head()"
   ]
  },
  {
   "cell_type": "code",
   "execution_count": 8,
   "metadata": {},
   "outputs": [
    {
     "data": {
      "image/png": "[encoded data removed]",
      "text/plain": [
       "<Figure size 432x288 with 1 Axes>"
      ]
     },
     "metadata": {
      "needs_background": "light"
     },
     "output_type": "display_data"
    }
   ],
   "source": [
    "def do_cpu(name1, df_1, name2, df_2):\n",
    "    plt.figure(figsize=(10, 6))\n",
    "\n",
    "    # Plot series from df_1\n",
    "    plt.plot(df_1['CPU_Percentage'], label=name1)\n",
    "\n",
    "    # Plot series from df_2\n",
    "    plt.plot(df_2['CPU_Percentage'], label=name2)\n",
    "\n",
    "    plt.title('CPU usage comparison')\n",
    "    plt.xlabel('Time')\n",
    "    plt.ylabel('CPU Percentage')\n",
    "    plt.gca().set_xticks([])\n",
    "    plt.legend()\n",
    "\n",
    "    plt.savefig('{}_{}_comparison.png'.format(name1, name2), dpi=300)\n",
    "\n",
    "# Call the function\n",
    "do_cpu('BFS', df_1, 'DFS', df_2)"
   ]
  },
  {
   "cell_type": "code",
   "execution_count": 9,
   "metadata": {},
   "outputs": [
    {
     "name": "stderr",
     "output_type": "stream",
     "text": [
      "/home/andras/.local/lib/python3.8/site-packages/pandas/plotting/_matplotlib/core.py:755: UserWarning: marker is redundantly defined by the 'marker' keyword argument and the fmt string \"o-\" (-> marker='o'). The keyword argument will take precedence.\n",
      "  return ax.plot(*args, **kwds)\n",
      "/home/andras/.local/lib/python3.8/site-packages/pandas/plotting/_matplotlib/core.py:755: UserWarning: marker is redundantly defined by the 'marker' keyword argument and the fmt string \"o-\" (-> marker='o'). The keyword argument will take precedence.\n",
      "  return ax.plot(*args, **kwds)\n"
     ]
    },
    {
     "data": {
      "text/plain": [
       "<Figure size 432x288 with 0 Axes>"
      ]
     },
     "metadata": {},
     "output_type": "display_data"
    },
    {
     "data": {
      "image/png": "[encoded data removed]",
      "text/plain": [
       "<Figure size 432x288 with 1 Axes>"
      ]
     },
     "metadata": {
      "needs_background": "light"
     },
     "output_type": "display_data"
    }
   ],
   "source": [
    "\n",
    "def do_mem(name, df):\n",
    "    plt.figure()\n",
    "    ax = df.plot( y=['Memory_in_use', 'Available_memory'], style='o-', marker='o', markersize=8)\n",
    "    ax.set_ylabel('Memory (10 x GB)')\n",
    "    ax.set_title('Memory usage {}'.format(name))\n",
    "\n",
    "    plt.legend(['Memory in use', 'Total memory'])\n",
    "    plt.xlabel('Time')\n",
    "    plt.gca().set_xticks([])\n",
    "\n",
    "    plt.savefig('{}_{}.png'.format(name, inspect.currentframe().f_code.co_name), dpi=300)\n",
    "\n",
    "do_mem('BFS', df)"
   ]
  },
  {
   "cell_type": "code",
   "execution_count": 11,
   "metadata": {},
   "outputs": [
    {
     "data": {
      "image/png": "[encoded data removed]",
      "text/plain": [
       "<Figure size 432x288 with 1 Axes>"
      ]
     },
     "metadata": {
      "needs_background": "light"
     },
     "output_type": "display_data"
    }
   ],
   "source": [
    "def do_mem_perc(name, df):\n",
    "    plt.figure()\n",
    "    plt.title('Memory usage (perc) {}'.format(name))\n",
    "    plt.plot(df['Memory_Percentage'])\n",
    "    plt.xlabel('Time')\n",
    "    plt.ylabel('Memory Percentage')\n",
    "    plt.gca().set_xticks([])\n",
    "    plt.savefig('{}_{}.png'.format(name, inspect.currentframe().f_code.co_name), dpi=300)\n",
    "\n",
    "do_mem_perc('BFS', df)"
   ]
  },
  {
   "cell_type": "code",
   "execution_count": 12,
   "metadata": {},
   "outputs": [
    {
     "name": "stderr",
     "output_type": "stream",
     "text": [
      "/home/andras/.local/lib/python3.8/site-packages/pandas/plotting/_matplotlib/core.py:755: UserWarning: marker is redundantly defined by the 'marker' keyword argument and the fmt string \"o-\" (-> marker='o'). The keyword argument will take precedence.\n",
      "  return ax.plot(*args, **kwds)\n",
      "/home/andras/.local/lib/python3.8/site-packages/pandas/plotting/_matplotlib/core.py:755: UserWarning: marker is redundantly defined by the 'marker' keyword argument and the fmt string \"o-\" (-> marker='o'). The keyword argument will take precedence.\n",
      "  return ax.plot(*args, **kwds)\n"
     ]
    },
    {
     "data": {
      "text/plain": [
       "<Figure size 432x288 with 0 Axes>"
      ]
     },
     "metadata": {},
     "output_type": "display_data"
    },
    {
     "data": {
      "image/png": "[encoded data removed]",
      "text/plain": [
       "<Figure size 432x288 with 1 Axes>"
      ]
     },
     "metadata": {
      "needs_background": "light"
     },
     "output_type": "display_data"
    }
   ],
   "source": [
    "def do_io(name, df):\n",
    "    plt.figure()\n",
    "\n",
    "\n",
    "    ax = df.plot( y=['Net_IO_in', 'Net_IO_out'], style='o-', marker='o', markersize=8)\n",
    "    ax.set_ylabel('Volume (KiB)')\n",
    "    ax.set_title('Net IO {}'.format(name))\n",
    "\n",
    "    plt.legend(['Net IO in', 'Net IO out'])\n",
    "    plt.xlabel('Time')\n",
    "    plt.gca().set_xticks([])\n",
    "\n",
    "    plt.savefig('{}_{}.png'.format(name, inspect.currentframe().f_code.co_name), dpi=300)\n",
    "\n",
    "do_io('BFS', df)"
   ]
  },
  {
   "cell_type": "code",
   "execution_count": 13,
   "metadata": {},
   "outputs": [
    {
     "name": "stderr",
     "output_type": "stream",
     "text": [
      "/home/andras/.local/lib/python3.8/site-packages/pandas/plotting/_matplotlib/core.py:755: UserWarning: marker is redundantly defined by the 'marker' keyword argument and the fmt string \"o-\" (-> marker='o'). The keyword argument will take precedence.\n",
      "  return ax.plot(*args, **kwds)\n",
      "/home/andras/.local/lib/python3.8/site-packages/pandas/plotting/_matplotlib/core.py:755: UserWarning: marker is redundantly defined by the 'marker' keyword argument and the fmt string \"o-\" (-> marker='o'). The keyword argument will take precedence.\n",
      "  return ax.plot(*args, **kwds)\n"
     ]
    },
    {
     "data": {
      "text/plain": [
       "<Figure size 432x288 with 0 Axes>"
      ]
     },
     "metadata": {},
     "output_type": "display_data"
    },
    {
     "data": {
      "image/png": "[encoded data removed]",
      "text/plain": [
       "<Figure size 432x288 with 1 Axes>"
      ]
     },
     "metadata": {
      "needs_background": "light"
     },
     "output_type": "display_data"
    }
   ],
   "source": [
    "def do_block_io(name, df):\n",
    "    plt.figure()\n",
    "\n",
    "    ax = df.plot( y=['Block_IO_in', 'Block_IO_out'], style='o-', marker='o', markersize=8)\n",
    "    ax.set_ylabel('Size (KB)')\n",
    "    ax.set_title('Block IO {}'.format(name))\n",
    "\n",
    "    plt.legend(['Block IO in', 'Block IO out'])\n",
    "    plt.xlabel('Time')\n",
    "    plt.gca().set_xticks([])\n",
    "\n",
    "    plt.savefig('{}_{}.png'.format(name, inspect.currentframe().f_code.co_name), dpi=300)\n",
    "\n",
    "do_block_io('BFS', df)"
   ]
  },
  {
   "cell_type": "code",
   "execution_count": null,
   "metadata": {},
   "outputs": [],
   "source": [
    "names = df['Name'].unique()\n",
    "names.sort()"
   ]
  },
  {
   "cell_type": "code",
   "execution_count": null,
   "metadata": {},
   "outputs": [],
   "source": [
    "names"
   ]
  },
  {
   "cell_type": "code",
   "execution_count": null,
   "metadata": {},
   "outputs": [],
   "source": [
    "\n",
    "for name in names:\n",
    "    do_cpu(name, df)\n",
    "    do_mem(name, df)\n",
    "    do_mem_perc(name, df)\n",
    "    do_io(name, df)\n",
    "    do_block_io(name, df)"
   ]
  }
 ],
 "metadata": {
  "kernelspec": {
   "display_name": "Python 3.8.10 64-bit",
   "language": "python",
   "name": "python3"
  },
  "language_info": {
   "codemirror_mode": {
    "name": "ipython",
    "version": 3
   },
   "file_extension": ".py",
   "mimetype": "text/x-python",
   "name": "python",
   "nbconvert_exporter": "python",
   "pygments_lexer": "ipython3",
   "version": "3.8.8"
  },
  "orig_nbformat": 4,
  "vscode": {
   "interpreter": {
    "hash": "31f2aee4e71d21fbe5cf8b01ff0e069b9275f58929596ceb00d14d90e3e16cd6"
   }
  }
 },
 "nbformat": 4,
 "nbformat_minor": 2
}
